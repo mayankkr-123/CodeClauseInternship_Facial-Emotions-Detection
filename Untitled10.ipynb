{
  "nbformat": 4,
  "nbformat_minor": 0,
  "metadata": {
    "colab": {
      "provenance": [],
      "authorship_tag": "ABX9TyPeKOgGqub0Rewm8Y6fgLy/",
      "include_colab_link": true
    },
    "kernelspec": {
      "name": "python3",
      "display_name": "Python 3"
    },
    "language_info": {
      "name": "python"
    }
  },
  "cells": [
    {
      "cell_type": "markdown",
      "metadata": {
        "id": "view-in-github",
        "colab_type": "text"
      },
      "source": [
        "<a href=\"https://colab.research.google.com/github/mayankkr-123/CodeClauseInternship_Facial-Emotions-Detection/blob/main/Untitled10.ipynb\" target=\"_parent\"><img src=\"https://colab.research.google.com/assets/colab-badge.svg\" alt=\"Open In Colab\"/></a>"
      ]
    },
    {
      "cell_type": "code",
      "source": [
        "import numpy as np\n",
        "import tensorflow as tf\n",
        "from tensorflow.keras.models import Sequential\n",
        "from tensorflow.keras.layers import Conv2D, MaxPooling2D, Flatten, Dense, Dropout\n",
        "from tensorflow.keras.preprocessing.image import ImageDataGenerator\n",
        "from tensorflow.keras.preprocessing import image\n",
        "import os\n",
        "import zipfile\n",
        "from google.colab import files  # Ensure the correct import\n"
      ],
      "metadata": {
        "id": "AB0TI81aU5Ha"
      },
      "execution_count": 9,
      "outputs": []
    },
    {
      "cell_type": "code",
      "source": [
        "# Upload the dataset zip file\n",
        "uploaded = files.upload()\n",
        "\n",
        "# Extract the uploaded zip file\n",
        "for filename in uploaded.keys():\n",
        "    with zipfile.ZipFile(filename, 'r') as zip_ref:\n",
        "        zip_ref.extractall('dataset')\n"
      ],
      "metadata": {
        "colab": {
          "base_uri": "https://localhost:8080/",
          "height": 73
        },
        "id": "vlo757KxVZ5i",
        "outputId": "ce148342-511b-4622-fec2-605f5e854f40"
      },
      "execution_count": 10,
      "outputs": [
        {
          "output_type": "display_data",
          "data": {
            "text/plain": [
              "<IPython.core.display.HTML object>"
            ],
            "text/html": [
              "\n",
              "     <input type=\"file\" id=\"files-73f3e4c2-1995-40ad-8233-78b163961c48\" name=\"files[]\" multiple disabled\n",
              "        style=\"border:none\" />\n",
              "     <output id=\"result-73f3e4c2-1995-40ad-8233-78b163961c48\">\n",
              "      Upload widget is only available when the cell has been executed in the\n",
              "      current browser session. Please rerun this cell to enable.\n",
              "      </output>\n",
              "      <script>// Copyright 2017 Google LLC\n",
              "//\n",
              "// Licensed under the Apache License, Version 2.0 (the \"License\");\n",
              "// you may not use this file except in compliance with the License.\n",
              "// You may obtain a copy of the License at\n",
              "//\n",
              "//      http://www.apache.org/licenses/LICENSE-2.0\n",
              "//\n",
              "// Unless required by applicable law or agreed to in writing, software\n",
              "// distributed under the License is distributed on an \"AS IS\" BASIS,\n",
              "// WITHOUT WARRANTIES OR CONDITIONS OF ANY KIND, either express or implied.\n",
              "// See the License for the specific language governing permissions and\n",
              "// limitations under the License.\n",
              "\n",
              "/**\n",
              " * @fileoverview Helpers for google.colab Python module.\n",
              " */\n",
              "(function(scope) {\n",
              "function span(text, styleAttributes = {}) {\n",
              "  const element = document.createElement('span');\n",
              "  element.textContent = text;\n",
              "  for (const key of Object.keys(styleAttributes)) {\n",
              "    element.style[key] = styleAttributes[key];\n",
              "  }\n",
              "  return element;\n",
              "}\n",
              "\n",
              "// Max number of bytes which will be uploaded at a time.\n",
              "const MAX_PAYLOAD_SIZE = 100 * 1024;\n",
              "\n",
              "function _uploadFiles(inputId, outputId) {\n",
              "  const steps = uploadFilesStep(inputId, outputId);\n",
              "  const outputElement = document.getElementById(outputId);\n",
              "  // Cache steps on the outputElement to make it available for the next call\n",
              "  // to uploadFilesContinue from Python.\n",
              "  outputElement.steps = steps;\n",
              "\n",
              "  return _uploadFilesContinue(outputId);\n",
              "}\n",
              "\n",
              "// This is roughly an async generator (not supported in the browser yet),\n",
              "// where there are multiple asynchronous steps and the Python side is going\n",
              "// to poll for completion of each step.\n",
              "// This uses a Promise to block the python side on completion of each step,\n",
              "// then passes the result of the previous step as the input to the next step.\n",
              "function _uploadFilesContinue(outputId) {\n",
              "  const outputElement = document.getElementById(outputId);\n",
              "  const steps = outputElement.steps;\n",
              "\n",
              "  const next = steps.next(outputElement.lastPromiseValue);\n",
              "  return Promise.resolve(next.value.promise).then((value) => {\n",
              "    // Cache the last promise value to make it available to the next\n",
              "    // step of the generator.\n",
              "    outputElement.lastPromiseValue = value;\n",
              "    return next.value.response;\n",
              "  });\n",
              "}\n",
              "\n",
              "/**\n",
              " * Generator function which is called between each async step of the upload\n",
              " * process.\n",
              " * @param {string} inputId Element ID of the input file picker element.\n",
              " * @param {string} outputId Element ID of the output display.\n",
              " * @return {!Iterable<!Object>} Iterable of next steps.\n",
              " */\n",
              "function* uploadFilesStep(inputId, outputId) {\n",
              "  const inputElement = document.getElementById(inputId);\n",
              "  inputElement.disabled = false;\n",
              "\n",
              "  const outputElement = document.getElementById(outputId);\n",
              "  outputElement.innerHTML = '';\n",
              "\n",
              "  const pickedPromise = new Promise((resolve) => {\n",
              "    inputElement.addEventListener('change', (e) => {\n",
              "      resolve(e.target.files);\n",
              "    });\n",
              "  });\n",
              "\n",
              "  const cancel = document.createElement('button');\n",
              "  inputElement.parentElement.appendChild(cancel);\n",
              "  cancel.textContent = 'Cancel upload';\n",
              "  const cancelPromise = new Promise((resolve) => {\n",
              "    cancel.onclick = () => {\n",
              "      resolve(null);\n",
              "    };\n",
              "  });\n",
              "\n",
              "  // Wait for the user to pick the files.\n",
              "  const files = yield {\n",
              "    promise: Promise.race([pickedPromise, cancelPromise]),\n",
              "    response: {\n",
              "      action: 'starting',\n",
              "    }\n",
              "  };\n",
              "\n",
              "  cancel.remove();\n",
              "\n",
              "  // Disable the input element since further picks are not allowed.\n",
              "  inputElement.disabled = true;\n",
              "\n",
              "  if (!files) {\n",
              "    return {\n",
              "      response: {\n",
              "        action: 'complete',\n",
              "      }\n",
              "    };\n",
              "  }\n",
              "\n",
              "  for (const file of files) {\n",
              "    const li = document.createElement('li');\n",
              "    li.append(span(file.name, {fontWeight: 'bold'}));\n",
              "    li.append(span(\n",
              "        `(${file.type || 'n/a'}) - ${file.size} bytes, ` +\n",
              "        `last modified: ${\n",
              "            file.lastModifiedDate ? file.lastModifiedDate.toLocaleDateString() :\n",
              "                                    'n/a'} - `));\n",
              "    const percent = span('0% done');\n",
              "    li.appendChild(percent);\n",
              "\n",
              "    outputElement.appendChild(li);\n",
              "\n",
              "    const fileDataPromise = new Promise((resolve) => {\n",
              "      const reader = new FileReader();\n",
              "      reader.onload = (e) => {\n",
              "        resolve(e.target.result);\n",
              "      };\n",
              "      reader.readAsArrayBuffer(file);\n",
              "    });\n",
              "    // Wait for the data to be ready.\n",
              "    let fileData = yield {\n",
              "      promise: fileDataPromise,\n",
              "      response: {\n",
              "        action: 'continue',\n",
              "      }\n",
              "    };\n",
              "\n",
              "    // Use a chunked sending to avoid message size limits. See b/62115660.\n",
              "    let position = 0;\n",
              "    do {\n",
              "      const length = Math.min(fileData.byteLength - position, MAX_PAYLOAD_SIZE);\n",
              "      const chunk = new Uint8Array(fileData, position, length);\n",
              "      position += length;\n",
              "\n",
              "      const base64 = btoa(String.fromCharCode.apply(null, chunk));\n",
              "      yield {\n",
              "        response: {\n",
              "          action: 'append',\n",
              "          file: file.name,\n",
              "          data: base64,\n",
              "        },\n",
              "      };\n",
              "\n",
              "      let percentDone = fileData.byteLength === 0 ?\n",
              "          100 :\n",
              "          Math.round((position / fileData.byteLength) * 100);\n",
              "      percent.textContent = `${percentDone}% done`;\n",
              "\n",
              "    } while (position < fileData.byteLength);\n",
              "  }\n",
              "\n",
              "  // All done.\n",
              "  yield {\n",
              "    response: {\n",
              "      action: 'complete',\n",
              "    }\n",
              "  };\n",
              "}\n",
              "\n",
              "scope.google = scope.google || {};\n",
              "scope.google.colab = scope.google.colab || {};\n",
              "scope.google.colab._files = {\n",
              "  _uploadFiles,\n",
              "  _uploadFilesContinue,\n",
              "};\n",
              "})(self);\n",
              "</script> "
            ]
          },
          "metadata": {}
        },
        {
          "output_type": "stream",
          "name": "stdout",
          "text": [
            "Saving archive (1).zip to archive (1).zip\n"
          ]
        }
      ]
    },
    {
      "cell_type": "code",
      "source": [
        "train_dir = 'dataset/train'\n",
        "validation_dir = 'dataset/test'\n"
      ],
      "metadata": {
        "id": "Hk9SNJT7ZVfL"
      },
      "execution_count": 11,
      "outputs": []
    },
    {
      "cell_type": "code",
      "source": [
        "train_datagen = ImageDataGenerator(\n",
        "    rescale=1./255,\n",
        "    shear_range=0.2,\n",
        "    zoom_range=0.2,\n",
        "    horizontal_flip=True)\n",
        "\n",
        "test_datagen = ImageDataGenerator(rescale=1./255)\n",
        "\n",
        "train_generator = train_datagen.flow_from_directory(\n",
        "    train_dir,\n",
        "    target_size=(48, 48),\n",
        "    batch_size=32,\n",
        "    class_mode='categorical')\n",
        "\n",
        "validation_generator = test_datagen.flow_from_directory(\n",
        "    validation_dir,\n",
        "    target_size=(48, 48),\n",
        "    batch_size=32,\n",
        "    class_mode='categorical')\n"
      ],
      "metadata": {
        "colab": {
          "base_uri": "https://localhost:8080/"
        },
        "id": "zIoBuI4_ZYWt",
        "outputId": "76dfe2b2-b755-448f-e3f5-9ad515d3981f"
      },
      "execution_count": 12,
      "outputs": [
        {
          "output_type": "stream",
          "name": "stdout",
          "text": [
            "Found 28709 images belonging to 7 classes.\n",
            "Found 7178 images belonging to 7 classes.\n"
          ]
        }
      ]
    },
    {
      "cell_type": "code",
      "source": [
        "model = Sequential()\n",
        "\n",
        "model.add(Conv2D(32, (3, 3), activation='relu', input_shape=(48, 48, 3)))\n",
        "model.add(MaxPooling2D(pool_size=(2, 2)))\n",
        "\n",
        "model.add(Conv2D(64, (3, 3), activation='relu'))\n",
        "model.add(MaxPooling2D(pool_size=(2, 2)))\n",
        "\n",
        "model.add(Conv2D(128, (3, 3), activation='relu'))\n",
        "model.add(MaxPooling2D(pool_size=(2, 2)))\n",
        "\n",
        "model.add(Flatten())\n",
        "model.add(Dense(128, activation='relu'))\n",
        "model.add(Dropout(0.5))\n",
        "model.add(Dense(7, activation='softmax'))  # Assuming 7 emotions in the dataset\n",
        "\n",
        "model.compile(optimizer='adam', loss='categorical_crossentropy', metrics=['accuracy'])\n"
      ],
      "metadata": {
        "id": "IBfArKucZcsz"
      },
      "execution_count": 13,
      "outputs": []
    },
    {
      "cell_type": "code",
      "source": [
        "history = model.fit(\n",
        "    train_generator,\n",
        "    steps_per_epoch=train_generator.samples // train_generator.batch_size,\n",
        "    validation_data=validation_generator,\n",
        "    validation_steps=validation_generator.samples // validation_generator.batch_size,\n",
        "    epochs=25)\n",
        "\n"
      ],
      "metadata": {
        "colab": {
          "base_uri": "https://localhost:8080/"
        },
        "id": "-qvOubA4ZfrL",
        "outputId": "d812d2b9-5fdc-4446-fe91-9e95e301fb23"
      },
      "execution_count": 14,
      "outputs": [
        {
          "output_type": "stream",
          "name": "stdout",
          "text": [
            "Epoch 1/25\n",
            "897/897 [==============================] - 131s 144ms/step - loss: 1.7629 - accuracy: 0.2797 - val_loss: 1.5964 - val_accuracy: 0.3718\n",
            "Epoch 2/25\n",
            "897/897 [==============================] - 127s 141ms/step - loss: 1.5786 - accuracy: 0.3847 - val_loss: 1.4787 - val_accuracy: 0.4421\n",
            "Epoch 3/25\n",
            "897/897 [==============================] - 128s 143ms/step - loss: 1.4711 - accuracy: 0.4334 - val_loss: 1.3439 - val_accuracy: 0.4842\n",
            "Epoch 4/25\n",
            "897/897 [==============================] - 129s 144ms/step - loss: 1.4152 - accuracy: 0.4621 - val_loss: 1.2893 - val_accuracy: 0.5052\n",
            "Epoch 5/25\n",
            "897/897 [==============================] - 129s 144ms/step - loss: 1.3674 - accuracy: 0.4783 - val_loss: 1.2799 - val_accuracy: 0.5099\n",
            "Epoch 6/25\n",
            "897/897 [==============================] - 129s 143ms/step - loss: 1.3317 - accuracy: 0.4925 - val_loss: 1.2752 - val_accuracy: 0.5202\n",
            "Epoch 7/25\n",
            "897/897 [==============================] - 131s 146ms/step - loss: 1.3082 - accuracy: 0.5026 - val_loss: 1.2350 - val_accuracy: 0.5253\n",
            "Epoch 8/25\n",
            "897/897 [==============================] - 126s 140ms/step - loss: 1.2882 - accuracy: 0.5127 - val_loss: 1.2261 - val_accuracy: 0.5314\n",
            "Epoch 9/25\n",
            "897/897 [==============================] - 128s 142ms/step - loss: 1.2677 - accuracy: 0.5186 - val_loss: 1.1954 - val_accuracy: 0.5435\n",
            "Epoch 10/25\n",
            "897/897 [==============================] - 127s 141ms/step - loss: 1.2516 - accuracy: 0.5271 - val_loss: 1.1829 - val_accuracy: 0.5472\n",
            "Epoch 11/25\n",
            "897/897 [==============================] - 126s 140ms/step - loss: 1.2313 - accuracy: 0.5325 - val_loss: 1.1680 - val_accuracy: 0.5534\n",
            "Epoch 12/25\n",
            "897/897 [==============================] - 127s 141ms/step - loss: 1.2225 - accuracy: 0.5377 - val_loss: 1.1760 - val_accuracy: 0.5512\n",
            "Epoch 13/25\n",
            "897/897 [==============================] - 129s 143ms/step - loss: 1.2090 - accuracy: 0.5415 - val_loss: 1.1591 - val_accuracy: 0.5600\n",
            "Epoch 14/25\n",
            "897/897 [==============================] - 127s 142ms/step - loss: 1.1908 - accuracy: 0.5526 - val_loss: 1.1582 - val_accuracy: 0.5587\n",
            "Epoch 15/25\n",
            "897/897 [==============================] - 128s 143ms/step - loss: 1.1815 - accuracy: 0.5547 - val_loss: 1.1410 - val_accuracy: 0.5585\n",
            "Epoch 16/25\n",
            "897/897 [==============================] - 130s 145ms/step - loss: 1.1786 - accuracy: 0.5572 - val_loss: 1.1486 - val_accuracy: 0.5642\n",
            "Epoch 17/25\n",
            "897/897 [==============================] - 126s 141ms/step - loss: 1.1637 - accuracy: 0.5593 - val_loss: 1.1350 - val_accuracy: 0.5653\n",
            "Epoch 18/25\n",
            "897/897 [==============================] - 129s 143ms/step - loss: 1.1585 - accuracy: 0.5622 - val_loss: 1.1339 - val_accuracy: 0.5639\n",
            "Epoch 19/25\n",
            "897/897 [==============================] - 128s 142ms/step - loss: 1.1565 - accuracy: 0.5637 - val_loss: 1.1413 - val_accuracy: 0.5639\n",
            "Epoch 20/25\n",
            "897/897 [==============================] - 127s 142ms/step - loss: 1.1452 - accuracy: 0.5674 - val_loss: 1.1344 - val_accuracy: 0.5730\n",
            "Epoch 21/25\n",
            "897/897 [==============================] - 131s 146ms/step - loss: 1.1458 - accuracy: 0.5666 - val_loss: 1.1283 - val_accuracy: 0.5732\n",
            "Epoch 22/25\n",
            "897/897 [==============================] - 125s 139ms/step - loss: 1.1366 - accuracy: 0.5702 - val_loss: 1.1367 - val_accuracy: 0.5665\n",
            "Epoch 23/25\n",
            "897/897 [==============================] - 128s 143ms/step - loss: 1.1300 - accuracy: 0.5701 - val_loss: 1.1367 - val_accuracy: 0.5756\n",
            "Epoch 24/25\n",
            "897/897 [==============================] - 126s 140ms/step - loss: 1.1142 - accuracy: 0.5775 - val_loss: 1.1199 - val_accuracy: 0.5696\n",
            "Epoch 25/25\n",
            "897/897 [==============================] - 128s 142ms/step - loss: 1.1150 - accuracy: 0.5781 - val_loss: 1.1234 - val_accuracy: 0.5776\n"
          ]
        }
      ]
    },
    {
      "cell_type": "code",
      "source": [
        "model.save('emotion_detection_model.h5')\n"
      ],
      "metadata": {
        "colab": {
          "base_uri": "https://localhost:8080/"
        },
        "id": "X4pc4vt0msCI",
        "outputId": "4735d870-3418-43c1-a1e5-642c3e1e765c"
      },
      "execution_count": 15,
      "outputs": [
        {
          "output_type": "stream",
          "name": "stderr",
          "text": [
            "/usr/local/lib/python3.10/dist-packages/keras/src/engine/training.py:3103: UserWarning: You are saving your model as an HDF5 file via `model.save()`. This file format is considered legacy. We recommend using instead the native Keras format, e.g. `model.save('my_model.keras')`.\n",
            "  saving_api.save_model(\n"
          ]
        }
      ]
    },
    {
      "cell_type": "code",
      "source": [
        "# To load the model later:\n",
        "model = tf.keras.models.load_model('emotion_detection_model.h5')\n",
        "\n",
        "# Evaluate the model\n",
        "loss, accuracy = model.evaluate(validation_generator)\n",
        "print(f'Validation accuracy: {accuracy*100:.2f}%')\n"
      ],
      "metadata": {
        "colab": {
          "base_uri": "https://localhost:8080/"
        },
        "id": "pb44n_F8myK8",
        "outputId": "63dfeb28-c1bd-458a-dffd-036b0a30f741"
      },
      "execution_count": 16,
      "outputs": [
        {
          "output_type": "stream",
          "name": "stdout",
          "text": [
            "225/225 [==============================] - 9s 38ms/step - loss: 1.1235 - accuracy: 0.5773\n",
            "Validation accuracy: 57.73%\n"
          ]
        }
      ]
    },
    {
      "cell_type": "code",
      "source": [
        "from IPython.display import display, Javascript\n",
        "from google.colab.output import eval_js\n",
        "from base64 import b64decode\n",
        "\n",
        "def take_photo(filename='photo.jpg', quality=0.8):\n",
        "    js = Javascript('''\n",
        "    async function takePhoto(quality) {\n",
        "        const div = document.createElement('div');\n",
        "        const capture = document.createElement('button');\n",
        "        capture.textContent = 'Capture Photo';\n",
        "        div.appendChild(capture);\n",
        "\n",
        "        const video = document.createElement('video');\n",
        "        video.style.display = 'block';\n",
        "        const stream = await navigator.mediaDevices.getUserMedia({video: true});\n",
        "\n",
        "        document.body.appendChild(div);\n",
        "        div.appendChild(video);\n",
        "        video.srcObject = stream;\n",
        "        await new Promise((resolve) => {\n",
        "          video.onloadedmetadata = () => {\n",
        "            video.play();\n",
        "            capture.onclick = resolve;\n",
        "          };\n",
        "        });\n",
        "        const canvas = document.createElement('canvas');\n",
        "        canvas.width = video.videoWidth;\n",
        "        canvas.height = video.videoHeight;\n",
        "        canvas.getContext('2d').drawImage(video, 0, 0);\n",
        "        stream.getTracks().forEach(track => track.stop());\n",
        "        const data = canvas.toDataURL('image/jpeg', quality);\n",
        "        div.remove();\n",
        "        return data;\n",
        "    }\n",
        "    takePhoto(%f);\n",
        "    ''' % quality)\n",
        "    display(js)\n",
        "    data = eval_js('takePhoto(%f)' % quality)\n",
        "    binary = b64decode(data.split(',')[1])\n",
        "    with open(filename, 'wb') as f:\n",
        "        f.write(binary)\n",
        "    return filename\n",
        "\n",
        "# Capture a photo\n",
        "photo_filename = take_photo()\n",
        "print(f\"Photo saved to {photo_filename}\")\n"
      ],
      "metadata": {
        "colab": {
          "base_uri": "https://localhost:8080/",
          "height": 34
        },
        "id": "LaOMxeJ3oUDH",
        "outputId": "d2fe01be-bb09-4a00-ab63-0f6dd7a4271e"
      },
      "execution_count": 42,
      "outputs": [
        {
          "output_type": "display_data",
          "data": {
            "text/plain": [
              "<IPython.core.display.Javascript object>"
            ],
            "application/javascript": [
              "\n",
              "    async function takePhoto(quality) {\n",
              "        const div = document.createElement('div');\n",
              "        const capture = document.createElement('button');\n",
              "        capture.textContent = 'Capture Photo';\n",
              "        div.appendChild(capture);\n",
              "\n",
              "        const video = document.createElement('video');\n",
              "        video.style.display = 'block';\n",
              "        const stream = await navigator.mediaDevices.getUserMedia({video: true});\n",
              "\n",
              "        document.body.appendChild(div);\n",
              "        div.appendChild(video);\n",
              "        video.srcObject = stream;\n",
              "        await new Promise((resolve) => {\n",
              "          video.onloadedmetadata = () => {\n",
              "            video.play();\n",
              "            capture.onclick = resolve;\n",
              "          };\n",
              "        });\n",
              "        const canvas = document.createElement('canvas');\n",
              "        canvas.width = video.videoWidth;\n",
              "        canvas.height = video.videoHeight;\n",
              "        canvas.getContext('2d').drawImage(video, 0, 0);\n",
              "        stream.getTracks().forEach(track => track.stop());\n",
              "        const data = canvas.toDataURL('image/jpeg', quality);\n",
              "        div.remove();\n",
              "        return data;\n",
              "    }\n",
              "    takePhoto(0.800000);\n",
              "    "
            ]
          },
          "metadata": {}
        },
        {
          "output_type": "stream",
          "name": "stdout",
          "text": [
            "Photo saved to photo.jpg\n"
          ]
        }
      ]
    },
    {
      "cell_type": "code",
      "source": [
        "import numpy as np\n",
        "import tensorflow as tf\n",
        "from tensorflow.keras.preprocessing import image\n",
        "\n",
        "# Load the trained model\n",
        "model = tf.keras.models.load_model('emotion_detection_model.h5')\n",
        "\n",
        "# Define the emotion labels\n",
        "emotion_labels = ['angry', 'disgust', 'fear', 'happy', 'neutral', 'sad', 'surprise']\n",
        "\n",
        "def load_and_preprocess_image(img_path):\n",
        "    # Load image\n",
        "    img = image.load_img(img_path, target_size=(48, 48))\n",
        "    # Convert image to array and normalize\n",
        "    img_tensor = image.img_to_array(img) / 255.0\n",
        "    # Expand dimensions to match model input shape\n",
        "    img_tensor = np.expand_dims(img_tensor, axis=0)\n",
        "    return img_tensor\n",
        "\n",
        "def predict_emotion(img_path):\n",
        "    # Load and preprocess the image\n",
        "    img_tensor = load_and_preprocess_image(img_path)\n",
        "    # Predict emotion\n",
        "    prediction = model.predict(img_tensor)\n",
        "    # Get predicted emotion label\n",
        "    predicted_label = emotion_labels[np.argmax(prediction)]\n",
        "    return predicted_label\n",
        "\n",
        "# Predict the emotion from the captured photo\n",
        "emotion = predict_emotion(photo_filename)\n",
        "print(f'Predicted emotion: {emotion}')\n"
      ],
      "metadata": {
        "colab": {
          "base_uri": "https://localhost:8080/"
        },
        "id": "7T9MKV1779A2",
        "outputId": "079d7b63-2048-4b77-f7d3-b9d85d645ca6"
      },
      "execution_count": 43,
      "outputs": [
        {
          "output_type": "stream",
          "name": "stdout",
          "text": [
            "1/1 [==============================] - 0s 150ms/step\n",
            "Predicted emotion: sad\n"
          ]
        }
      ]
    }
  ]
}